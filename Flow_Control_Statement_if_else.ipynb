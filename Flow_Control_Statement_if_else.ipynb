{
  "nbformat": 4,
  "nbformat_minor": 0,
  "metadata": {
    "colab": {
      "provenance": [],
      "authorship_tag": "ABX9TyPzYExWo9FpiO0Ekf+ZWEdn",
      "include_colab_link": true
    },
    "kernelspec": {
      "name": "python3",
      "display_name": "Python 3"
    },
    "language_info": {
      "name": "python"
    }
  },
  "cells": [
    {
      "cell_type": "markdown",
      "metadata": {
        "id": "view-in-github",
        "colab_type": "text"
      },
      "source": [
        "<a href=\"https://colab.research.google.com/github/engineered-in/Python-For-Engineers/blob/main/Flow_Control_Statement_if_else.ipynb\" target=\"_parent\"><img src=\"https://colab.research.google.com/assets/colab-badge.svg\" alt=\"Open In Colab\"/></a>"
      ]
    },
    {
      "cell_type": "markdown",
      "source": [
        "# [Flow Control Statement: if...else...](https://www.linkedin.com/pulse/5-flow-control-statement-ifelse-swarup-selvaraj--2gtgc)\n",
        "\n",
        "👋 Welcome to the learning notebook for the Fifth Edition of [Python for Engineers](https://www.linkedin.com/newsletters/python-for-engineers-7042602186047983616/) linkedin newsletter.\n",
        "\n",
        "\n",
        "Here, you will learn the basics of flow control using conditional branching statements.\n",
        "\n",
        "---\n",
        "\n",
        "In this notebook, you will be introduced to one concept:\n",
        "\n",
        "\n",
        "> **if**.. **elif**.. **else**.. statement:\n"
      ],
      "metadata": {
        "id": "YbSwyM6Cw5m8"
      }
    },
    {
      "cell_type": "markdown",
      "source": [
        "## 1.1 What are Flow Control Statements and Why should You use it?\n",
        "\n",
        "**Flow control** helps your program **decide** what to do next based on the situation.\n",
        "\n",
        "**Conditional branching statements** are subset of Flow control statements that help your program **make decisions** based on **conditions**, allowing it to \"**branch**\" into **different paths** of execution.\n",
        "\n",
        "Quite often we need to perform **different calculations** depending on the **scenario**.\n",
        "Conditional branching statements help you achieve this."
      ],
      "metadata": {
        "id": "R7LvBA5M0BzL"
      }
    },
    {
      "cell_type": "markdown",
      "source": [
        "\n",
        "## 1.2 if.. elif.. else..\n",
        "\n",
        "The **if**... **elif**... **else**... statement is a way for your **program** to make **decisions**. It allows the program to **check multiple conditions** and **take different actions** depending on which condition is true.\n",
        "\n",
        "- `if`: Starts by testing the **first condition** and executes the block (indented code) if the condition passes.\n",
        "- `elif`: Checks another condition if the **first one is not true**.\n",
        "- `else`: Runs when **none of the previous conditions are true**.\n",
        "\n",
        "A very simple implementation of conditional branching statement could be for the **checking the adequacy** of a **beam** based on the allowable and applied moment.\n",
        "\n",
        "Here is a **flowchart** to help you grasp how the if.. elif.. else.. statement work."
      ],
      "metadata": {
        "id": "TYv4rvTSVu0g"
      }
    },
    {
      "cell_type": "markdown",
      "source": [
        "<img width=\"500px*\" src=\"data:image/svg+xml;base64,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\">"
      ],
      "metadata": {
        "id": "QI0yK2u8GQcJ"
      }
    },
    {
      "cell_type": "markdown",
      "source": [
        "\n",
        "> You can add as many `elif` statements as you need between the `if` and `else` `statements`\n",
        "\n",
        "> We will be using Functions explained in the [previous edition of newsletter](https://www.linkedin.com/pulse/4-defining-functions-python-%25C6%2592x-swarup-selvaraj--gt5if).\n"
      ],
      "metadata": {
        "id": "9fuCdkW3Har1"
      }
    },
    {
      "cell_type": "code",
      "source": [
        "def beam_safety_check(applied_moment, allowable_moment):\n",
        "\n",
        "    # Calculate the moment unity check value\n",
        "    unity_check = applied_moment / allowable_moment\n",
        "\n",
        "    if unity_check <= 0.7:\n",
        "        return f\"Beam is safe. Unity Check = {unity_check}\"\n",
        "\n",
        "    elif unity_check < 1: # Will be checked only if the previous condition failed\n",
        "        return f\"Beam is safe, but nearing capacity. Unity Check = {unity_check}\"\n",
        "\n",
        "    else:\n",
        "        # Will be executed only if all the previous conditions failed\n",
        "        return f\"Beam is unsafe. Unity Check = {unity_check}\"\n"
      ],
      "metadata": {
        "id": "L6S4g8--5Cca"
      },
      "execution_count": 5,
      "outputs": []
    },
    {
      "cell_type": "code",
      "source": [
        "print(beam_safety_check(applied_moment=50, allowable_moment=100))"
      ],
      "metadata": {
        "colab": {
          "base_uri": "https://localhost:8080/"
        },
        "id": "lHnWGQHe6tLx",
        "outputId": "76d03efe-a566-4910-cda5-6dfad616affc"
      },
      "execution_count": 7,
      "outputs": [
        {
          "output_type": "stream",
          "name": "stdout",
          "text": [
            "Beam is safe. Unity Check = 0.5\n"
          ]
        }
      ]
    },
    {
      "cell_type": "code",
      "source": [
        "print(beam_safety_check(applied_moment=90, allowable_moment=100))"
      ],
      "metadata": {
        "colab": {
          "base_uri": "https://localhost:8080/"
        },
        "id": "rC8Kb3WR7QX3",
        "outputId": "c1bedef5-6809-4ad0-b167-43a34ab2ed47"
      },
      "execution_count": 8,
      "outputs": [
        {
          "output_type": "stream",
          "name": "stdout",
          "text": [
            "Beam is safe, but nearing capacity. Unity Check = 0.9\n"
          ]
        }
      ]
    },
    {
      "cell_type": "code",
      "source": [
        "print(beam_safety_check(applied_moment=120, allowable_moment=100))"
      ],
      "metadata": {
        "colab": {
          "base_uri": "https://localhost:8080/"
        },
        "id": "RN1oZiax7Srl",
        "outputId": "f213636a-5bf4-468b-b1e7-1d46a319a64a"
      },
      "execution_count": 9,
      "outputs": [
        {
          "output_type": "stream",
          "name": "stdout",
          "text": [
            "Beam is unsafe. Unity Check = 1.2\n"
          ]
        }
      ]
    },
    {
      "cell_type": "markdown",
      "source": [
        "## 1.4 Takeaways\n",
        "\n",
        "1. **Flow Control in Python**:\n",
        "  - Flow control statements like if, elif, and else help your program **make decisions** based on **conditions**.\n",
        "  - These statements **allow branching logic**, enabling your program to **handle multiple scenarios** dynamically.\n",
        "2. **Conditional Statements**:\n",
        "  - `if`: Checks the **first condition**. If true, executes the corresponding block.\n",
        "  - `elif`: Checks subsequent conditions if **the previous ones were false**.\n",
        "  - `else`: Executes when **all preceding conditions are false**.\n",
        "3. Best Practices:\n",
        "  - Keep **conditions** **simple** and **clear** to improve readability.\n",
        "  - Use `elif` instead of **multiple** `if` blocks to **avoid unnecessary checks**."
      ],
      "metadata": {
        "id": "ZVDZf_zUIBS-"
      }
    },
    {
      "cell_type": "markdown",
      "source": [
        "## 1.5 References\n",
        "\n",
        "> 🔗 [if Statements | Official Documentation](https://docs.python.org/3/tutorial/controlflow.html#more-control-flow-tools)\n",
        "\n",
        "> 📌 [Defining Functions in Python ƒ(x)](https://colab.research.google.com/drive/1yBgupjrC1cvK0yB8MkpvT9Zfr0WfRzYZ?usp=sharing)\n",
        "\n",
        "> 📌 [Variables and Data Types in Python](https://colab.research.google.com/drive/1DJAHtTgmvDiuP4oMqy69yg6lfhvGwgaF?usp=sharing)\n",
        "\n",
        "> 📌 [Experimenting Python notebooks on Colaboratory](https://colab.research.google.com/drive/1_SYq7cWd8t4YStbwtIAoBztD94PMmp1W?usp=sharing)\n",
        "\n",
        "---\n",
        "\n",
        "**Have a Question / Suggestion**?\n",
        "\n",
        "🗨️ Post a comment to the Newsletter. I will try my best to respond within 24 hours."
      ],
      "metadata": {
        "id": "3Jb7TWEsz0bH"
      }
    }
  ]
}