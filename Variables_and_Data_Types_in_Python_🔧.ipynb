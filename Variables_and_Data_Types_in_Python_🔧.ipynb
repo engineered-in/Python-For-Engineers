{
  "nbformat": 4,
  "nbformat_minor": 0,
  "metadata": {
    "colab": {
      "provenance": [],
      "toc_visible": true,
      "authorship_tag": "ABX9TyPa2Zm7P9xjcxv/RmWSLF48",
      "include_colab_link": true
    },
    "kernelspec": {
      "name": "python3",
      "display_name": "Python 3"
    },
    "language_info": {
      "name": "python"
    }
  },
  "cells": [
    {
      "cell_type": "markdown",
      "metadata": {
        "id": "view-in-github",
        "colab_type": "text"
      },
      "source": [
        "<a href=\"https://colab.research.google.com/github/engineered-in/Python-For-Engineers/blob/main/Variables_and_Data_Types_in_Python_%F0%9F%94%A7.ipynb\" target=\"_parent\"><img src=\"https://colab.research.google.com/assets/colab-badge.svg\" alt=\"Open In Colab\"/></a>"
      ]
    },
    {
      "cell_type": "markdown",
      "source": [
        "# [Variables and Data Types in Python 🔧](https://www.linkedin.com/pulse/3-variables-data-types-python-swarup-selvaraj)\n",
        "\n",
        "👋 Welcome to the learning notebook for the Third Edition of [Python for Engineers](https://www.linkedin.com/newsletters/python-for-engineers-7042602186047983616/) linkedin newsletter.\n",
        "\n",
        "🍬 You'll be pleased with your choice of learning Python 🍬\n",
        "\n",
        "---\n",
        "\n",
        "Here are two basic exercises that will help you with\n",
        "\n",
        "\n",
        "> 📊 Different types of data ( Basic and Complex )\n",
        "\n",
        "\n",
        "> 💾 Storing the data into variables\n"
      ],
      "metadata": {
        "id": "YbSwyM6Cw5m8"
      }
    },
    {
      "cell_type": "markdown",
      "source": [
        "## 📊 Different types of data ( Basic and Complex )\n",
        "\n",
        "In general data can be broadly classified as\n",
        "\n",
        "1. Basic Data Types\n",
        "  \n",
        "  1.1. Numerical Data Types\n",
        "\n",
        "      1.1.1. Integer : 26\n",
        "\n",
        "      1.1.2. Floating point number : 26.0\n",
        "\n",
        "  1.2. String : \"26\"\n",
        "\n",
        "  1.3. Boolean : True\n",
        "\n",
        "2. Complex Data Types\n",
        "\n",
        "  2.1. Lists : [26, 27.0]\n",
        "\n",
        "  2.2. Dictionary : {26: \"Twenty Six\", 27: \"Twenty Seven\"}"
      ],
      "metadata": {
        "id": "R7LvBA5M0BzL"
      }
    },
    {
      "cell_type": "code",
      "source": [
        "# 1.1.1. Integer                  26\n",
        "\n",
        "print(26)\n",
        "print(type(26))"
      ],
      "metadata": {
        "id": "7j7lWqtSxIz1"
      },
      "execution_count": null,
      "outputs": []
    },
    {
      "cell_type": "code",
      "source": [
        "# 1.1.2. Floating point number    26.0\n",
        "\n",
        "print(26.0)\n",
        "print(type(26.0))"
      ],
      "metadata": {
        "id": "PDt6Xt3g0rue"
      },
      "execution_count": null,
      "outputs": []
    },
    {
      "cell_type": "code",
      "source": [
        "# 1.2. String                     \"26\"\n",
        "# You can enclose string within pair of single quotes '' or double quotes \"\"\n",
        "\n",
        "print(\"26\")\n",
        "print(type(\"26\"))"
      ],
      "metadata": {
        "id": "0qIzWl0809tu"
      },
      "execution_count": null,
      "outputs": []
    },
    {
      "cell_type": "code",
      "source": [
        "# 1.3. Boolean                    True\n",
        "# A boolean can hold either True or False value.  Case Sensitive.\n",
        "\n",
        "print(True)\n",
        "print(type(True))"
      ],
      "metadata": {
        "id": "_psrbmbI1buc"
      },
      "execution_count": null,
      "outputs": []
    },
    {
      "cell_type": "code",
      "source": [
        "# 2.1. Lists                       [26, 27.0]\n",
        "# A list can store a collection of elements\n",
        "# Individual element can be accessed using its index (starts from 0)\n",
        "\n",
        "print([26, 27.0])\n",
        "print(type([26, 27.0]))\n",
        "print([26, 27.0][0])"
      ],
      "metadata": {
        "id": "YIk5ujX05A17"
      },
      "execution_count": null,
      "outputs": []
    },
    {
      "cell_type": "code",
      "source": [
        "# 2.2. Dictionary                  {26: \"Twenty Six\", 27: \"Twenty Seven\"}\n",
        "# A dictionary maps a collection of elements/values to a custom index/key\n",
        "# A dictionary stores data in {key: value} pairs\n",
        "# Individual element/value can be accessed using its key\n",
        "\n",
        "print({26: \"Twenty Six\", 27: \"Twenty Seven\"})\n",
        "print(type({26: \"Twenty Six\", 27: \"Twenty Seven\"}))\n",
        "print({26: \"Twenty Six\", 27: \"Twenty Seven\"}[26])"
      ],
      "metadata": {
        "id": "9YdxPlfJ5_5y"
      },
      "execution_count": null,
      "outputs": []
    },
    {
      "cell_type": "markdown",
      "source": [
        "## 💾 Storing the data into variables\n",
        "\n",
        "In python, storing data into variables just require an assignment."
      ],
      "metadata": {
        "id": "5VnXNnrtluKj"
      }
    },
    {
      "cell_type": "code",
      "source": [
        "a = 26                                         # 1.1.1. Integer\n",
        "print(type(a))\n",
        "print(a)"
      ],
      "metadata": {
        "id": "X0nZDbJtmOgv"
      },
      "execution_count": null,
      "outputs": []
    },
    {
      "cell_type": "code",
      "source": [
        "a = 26.0                                       # 1.1.2. Floating point number\n",
        "print(type(a))\n",
        "print(a)"
      ],
      "metadata": {
        "id": "A2RBrbG3mzrG"
      },
      "execution_count": null,
      "outputs": []
    },
    {
      "cell_type": "code",
      "source": [
        "a = \"26\"                                       # 1.2    String\n",
        "print(type(a))\n",
        "print(a)"
      ],
      "metadata": {
        "id": "cp7vvfHum3pQ"
      },
      "execution_count": null,
      "outputs": []
    },
    {
      "cell_type": "code",
      "source": [
        "a = True                                       # 1.3    Boolean\n",
        "print(type(a))\n",
        "print(a)"
      ],
      "metadata": {
        "id": "P8Gv6iAGm7E9"
      },
      "execution_count": null,
      "outputs": []
    },
    {
      "cell_type": "code",
      "source": [
        "a = [26, 27.0]                                 # 2.1    List\n",
        "print(type(a))\n",
        "print(a)\n",
        "print(a[1])"
      ],
      "metadata": {
        "id": "oPOts4QPm-qn"
      },
      "execution_count": null,
      "outputs": []
    },
    {
      "cell_type": "code",
      "source": [
        "a = {26: \"Twenty Six\", 27: \"Twenty Seven\"}    # 2.2    Dictionary\n",
        "print(type(a))\n",
        "print(a)\n",
        "print(a[27])"
      ],
      "metadata": {
        "id": "Ycb0hfJRnB2I"
      },
      "execution_count": null,
      "outputs": []
    },
    {
      "cell_type": "markdown",
      "source": [
        "## References\n",
        "\n",
        "> [Experimenting Python notebooks on Colaboratory ⚗️](https://colab.research.google.com/drive/1_SYq7cWd8t4YStbwtIAoBztD94PMmp1W?usp=sharing)\n",
        "\n",
        "> [Built-in Data Types](https://docs.python.org/3/library/stdtypes.html)"
      ],
      "metadata": {
        "id": "3Jb7TWEsz0bH"
      }
    }
  ]
}