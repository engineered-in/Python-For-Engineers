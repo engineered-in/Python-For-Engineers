{
  "nbformat": 4,
  "nbformat_minor": 0,
  "metadata": {
    "colab": {
      "provenance": [],
      "authorship_tag": "ABX9TyMGjc0r8vSLm9x2XCV023tA",
      "include_colab_link": true
    },
    "kernelspec": {
      "name": "python3",
      "display_name": "Python 3"
    },
    "language_info": {
      "name": "python"
    }
  },
  "cells": [
    {
      "cell_type": "markdown",
      "metadata": {
        "id": "view-in-github",
        "colab_type": "text"
      },
      "source": [
        "<a href=\"https://colab.research.google.com/github/engineered-in/Python-For-Engineers/blob/main/Defining_Functions_in_Python_%C6%92(x).ipynb\" target=\"_parent\"><img src=\"https://colab.research.google.com/assets/colab-badge.svg\" alt=\"Open In Colab\"/></a>"
      ]
    },
    {
      "cell_type": "markdown",
      "source": [
        "# [Defining Functions in Python ƒ(x)](https://www.linkedin.com/pulse/4-defining-functions-python-%25C6%2592x-swarup-selvaraj--gt5if)\n",
        "\n",
        "👋 Welcome to the learning notebook for the Fourth Edition of [Python for Engineers](https://www.linkedin.com/newsletters/python-for-engineers-7042602186047983616/) linkedin newsletter.\n",
        "\n",
        "\n",
        "Here, you will learn the basics of writing re-usable Python functions.\n",
        "\n",
        "---\n",
        "\n",
        "In this notebook, you will be introduced to three concepts:\n",
        "\n",
        "\n",
        "> Function\n",
        "\n",
        "> Function with Arguments\n",
        "\n",
        "> Function with Arguments and Return Values\n"
      ],
      "metadata": {
        "id": "YbSwyM6Cw5m8"
      }
    },
    {
      "cell_type": "markdown",
      "source": [
        "## 1.1 What is a Function and Why should You use it?\n",
        "\n",
        "A function in Python is like a **formula** used in engineering calculations. It allows you to **organize** your code to perform a **specific task** **repeatedly** with **different inputs**, just like using the same formula for different values.\n",
        "\n",
        "**Definition**: A function is a *block of code* that performs a *particular task*.\n",
        "\n",
        "**Purpose**: Instead of writing the same code *multiple times*, you *write* a function *once* and use it whenever needed. This helps *save time* and *reduces errors*.\n",
        "\n"
      ],
      "metadata": {
        "id": "R7LvBA5M0BzL"
      }
    },
    {
      "cell_type": "markdown",
      "source": [
        "\n",
        "## 1.2 Function\n",
        "\n",
        "To use a function, you first need to **define** it by writing the **code** that will **run** when the function is called.\n",
        "\n"
      ],
      "metadata": {
        "id": "TYv4rvTSVu0g"
      }
    },
    {
      "cell_type": "markdown",
      "source": [
        "### 1.2.1 Defining a Function\n",
        "  \n",
        "You define a function using the `def` keyword, give it a **name**, and specify what it should do. Then you call it whenever you need it.\n",
        "\n",
        "Let us see an example of a function to **print** a **greeting message**."
      ],
      "metadata": {
        "id": "uJckFgthVzS9"
      }
    },
    {
      "cell_type": "code",
      "source": [
        "# 1.2.1 Defining a Function\n",
        "\n",
        "def greet():\n",
        "    print(\"Welcome to Python for Engineers Newsletter!\")"
      ],
      "metadata": {
        "id": "7j7lWqtSxIz1"
      },
      "execution_count": 1,
      "outputs": []
    },
    {
      "cell_type": "markdown",
      "source": [
        "> **Note**: Defining the function **does not execute** the code. The function code will only **run** when you **call (invoke)** the function."
      ],
      "metadata": {
        "id": "Tqm_1mA9ailv"
      }
    },
    {
      "cell_type": "markdown",
      "source": [
        "### 1.2.2 Invoking a Function\n",
        "\n",
        "To invoke a function, use its **name** followed by parentheses:"
      ],
      "metadata": {
        "id": "FGlHMa_a-la1"
      }
    },
    {
      "cell_type": "code",
      "source": [
        "# 1.2.2 Invoking a Function\n",
        "\n",
        "greet()"
      ],
      "metadata": {
        "colab": {
          "base_uri": "https://localhost:8080/"
        },
        "id": "M-1RhePqHbW4",
        "outputId": "c2e239c8-2098-42f8-fe35-54a698401e19"
      },
      "execution_count": 2,
      "outputs": [
        {
          "output_type": "stream",
          "name": "stdout",
          "text": [
            "Welcome to Python for Engineers Newsletter!\n"
          ]
        }
      ]
    },
    {
      "cell_type": "markdown",
      "source": [
        "## 1.3 Function with Arguments\n",
        "\n",
        "Functions become **truly practical** when you can **pass input values** (called **arguments**) to them, just like providing **input data** for an **engineering formula**.\n",
        "\n"
      ],
      "metadata": {
        "id": "5VnXNnrtluKj"
      }
    },
    {
      "cell_type": "markdown",
      "source": [
        "### 1.3.1 Defining Function with Arguments\n",
        "\n",
        "When defining a function with **arguments**, you specify **input variables** in the **parentheses**. You can then **use** these variables within the function."
      ],
      "metadata": {
        "id": "CQmaz4utV49-"
      }
    },
    {
      "cell_type": "code",
      "source": [
        "# 1.3.1 Defining Function with Arguments\n",
        "\n",
        "def calculate_stress(load, area):\n",
        "    print(f\"Stress = {load / area}\")"
      ],
      "metadata": {
        "id": "X0nZDbJtmOgv"
      },
      "execution_count": 3,
      "outputs": []
    },
    {
      "cell_type": "markdown",
      "source": [
        "In this example, `load` and `area` are **inputs** to the function, similar to how you input load and area values into a **stress formula**."
      ],
      "metadata": {
        "id": "DIihNtmvbZcw"
      }
    },
    {
      "cell_type": "markdown",
      "source": [
        "### 1.3.2 Invoking a Function with Arguments\n",
        "\n",
        "To **call** a function with **arguments**, provide the **values** inside the **parentheses**:"
      ],
      "metadata": {
        "id": "BrnrXnCXMsv0"
      }
    },
    {
      "cell_type": "code",
      "source": [
        "# 1.3.2 Invoking a Function with Arguments\n",
        "\n",
        "calculate_stress(load=10 , area=3)  # 10 KN distributed over 3 square meters"
      ],
      "metadata": {
        "colab": {
          "base_uri": "https://localhost:8080/"
        },
        "id": "Jil5cBGMM84V",
        "outputId": "268afc69-386f-4e65-e94f-c042317dd010"
      },
      "execution_count": 4,
      "outputs": [
        {
          "output_type": "stream",
          "name": "stdout",
          "text": [
            "Stress = 3.3333333333333335\n"
          ]
        }
      ]
    },
    {
      "cell_type": "markdown",
      "source": [
        "## 1.4 Function with Arguments and Return Value\n",
        "\n",
        "The **true power** of functions lies in their ability to **process inputs** and **return a value**, just like **substituting values** into a **formula** to get the **result**.\n",
        "\n",
        "Instead of printing results, you can have the function **return an output value** that can be **stored** in a **variable** for further use."
      ],
      "metadata": {
        "id": "Ktm9OyayNd3a"
      }
    },
    {
      "cell_type": "markdown",
      "source": [
        "\n",
        "### 1.4.1 Defining a Function with Arguments and Return Value\n",
        "\n",
        "Let us rewrite the earlier example to **return** the **stress value** instead of printing it to the screen.\n",
        "\n",
        "Use the `return` statement to send the **result** back from the function."
      ],
      "metadata": {
        "id": "u8zglR7iV-64"
      }
    },
    {
      "cell_type": "code",
      "source": [
        "# 1.4.1 Defining Function with Arguments and Return Value\n",
        "\n",
        "def calculate_stress(load, area):\n",
        "    return load / area"
      ],
      "metadata": {
        "id": "Se73ETQzWJ2H"
      },
      "execution_count": 5,
      "outputs": []
    },
    {
      "cell_type": "markdown",
      "source": [
        "### 1.4.2 Invoking a Function with Arguments and Return Value\n",
        "\n",
        "Since the **calculate_stress** function now **returns** a **value**, you need to **store** the **result** in a **variable** when you invoke it:"
      ],
      "metadata": {
        "id": "78UTebBQWZeO"
      }
    },
    {
      "cell_type": "code",
      "source": [
        "# 1.4.2 Invoking a Function with Arguments and Return Value\n",
        "\n",
        "stress = calculate_stress(load=10, area=3)\n",
        "print(f\"Stress = {stress}\")"
      ],
      "metadata": {
        "colab": {
          "base_uri": "https://localhost:8080/"
        },
        "id": "T_JH3XqhWgXP",
        "outputId": "98e58ee1-1d64-4bb0-d068-b5fdac296913"
      },
      "execution_count": 6,
      "outputs": [
        {
          "output_type": "stream",
          "name": "stdout",
          "text": [
            "Stress = 3.3333333333333335\n"
          ]
        }
      ]
    },
    {
      "cell_type": "markdown",
      "source": [
        "In this example, the function **calculates** the **stress value** and **returns** it, allowing us to **store** the **result** in the `stress` variable for later use."
      ],
      "metadata": {
        "id": "MXZf7alEyDwr"
      }
    },
    {
      "cell_type": "markdown",
      "source": [
        "## 1.5 Takeaways\n",
        "\n",
        "The key takeaway of this edition is to help you understand how to **parametrize repetitive calculations** into **reusable functions**.\n",
        "\n",
        "This allows you to **standardize** your calculations and **use them repeatedly** with ease.\n",
        "\n",
        "Let us use the `calculate_stress` function for a **Laboratory Yield Stress experiment**:"
      ],
      "metadata": {
        "id": "epF6Dsm-giLa"
      }
    },
    {
      "cell_type": "code",
      "source": [
        "# 1.5 Takeaways\n",
        "\n",
        "stress_at_proportionality_limit = calculate_stress(load=28.275, area=113.1)     # 12 mm diameter bar\n",
        "\n",
        "stress_at_yield_point = calculate_stress(load=33.93, area=113.1)                # 12 mm diameter bar\n",
        "\n",
        "stress_at_ultimate_point = calculate_stress(load=50.895, area=113.1)            # 12 mm diameter bar\n",
        "\n",
        "stress_at_fracture_point = calculate_stress(load=27.71, area=79.17)             # 12 mm diameter bar reduced due to necking\n",
        "\n",
        "print(f\"\\nStress at Proportionality Limit = {stress_at_proportionality_limit} kN/mm2\")\n",
        "\n",
        "print(f\"\\nStress at Yield Point = {stress_at_yield_point} kN/mm2\")\n",
        "\n",
        "print(f\"\\nStress at Ultimate Point = {stress_at_ultimate_point} kN/mm2\")\n",
        "\n",
        "print(f\"\\nStress at Fracture Point = {stress_at_fracture_point} kN/mm2\")"
      ],
      "metadata": {
        "colab": {
          "base_uri": "https://localhost:8080/"
        },
        "id": "7zyELGRph-Lc",
        "outputId": "b79339e0-e0fa-4018-fb14-4bf80fd839ad"
      },
      "execution_count": 7,
      "outputs": [
        {
          "output_type": "stream",
          "name": "stdout",
          "text": [
            "\n",
            "Stress at Proportionality Limit = 0.25 kN/mm2\n",
            "\n",
            "Stress at Yield Point = 0.3 kN/mm2\n",
            "\n",
            "Stress at Ultimate Point = 0.45000000000000007 kN/mm2\n",
            "\n",
            "Stress at Fracture Point = 0.35000631552355693 kN/mm2\n"
          ]
        }
      ]
    },
    {
      "cell_type": "markdown",
      "source": [
        "Do you get the concept of **standardizing repetitive calculations** as a **function** and use it any **number of times** as and when required?\n",
        "\n",
        "Ofcourse this is a **very simple example** to help you **grasp** the **idea**.  It works the same way even for **complex function definitions**.\n"
      ],
      "metadata": {
        "id": "NbHP9F4ukc3S"
      }
    },
    {
      "cell_type": "markdown",
      "source": [
        "## 1.6 References\n",
        "\n",
        "> 🔗 [Function definitions | Official Documentation](https://docs.python.org/3/reference/compound_stmts.html#function-definitions)\n",
        "\n",
        "> 📌 [Variables and Data Types in Python](https://colab.research.google.com/drive/1DJAHtTgmvDiuP4oMqy69yg6lfhvGwgaF?usp=sharing)\n",
        "\n",
        "> 📌 [Experimenting Python notebooks on Colaboratory](https://colab.research.google.com/drive/1_SYq7cWd8t4YStbwtIAoBztD94PMmp1W?usp=sharing)\n",
        "\n",
        "---\n",
        "\n",
        "**Have a Question / Suggestion**?\n",
        "\n",
        "🗨️ Post a comment to the Newsletter. I will try my best to respond within 24 hours."
      ],
      "metadata": {
        "id": "3Jb7TWEsz0bH"
      }
    }
  ]
}