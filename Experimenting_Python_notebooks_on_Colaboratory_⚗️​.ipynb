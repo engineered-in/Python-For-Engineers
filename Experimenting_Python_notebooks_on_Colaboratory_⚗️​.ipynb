{
  "nbformat": 4,
  "nbformat_minor": 0,
  "metadata": {
    "colab": {
      "provenance": [],
      "toc_visible": true,
      "authorship_tag": "ABX9TyPzkNOpXxo8MBWcYOK6LyaV",
      "include_colab_link": true
    },
    "kernelspec": {
      "name": "python3",
      "display_name": "Python 3"
    },
    "language_info": {
      "name": "python"
    }
  },
  "cells": [
    {
      "cell_type": "markdown",
      "metadata": {
        "id": "view-in-github",
        "colab_type": "text"
      },
      "source": [
        "<a href=\"https://colab.research.google.com/github/engineered-in/Python-For-Engineers/blob/main/Experimenting_Python_notebooks_on_Colaboratory_%E2%9A%97%EF%B8%8F%E2%80%8B.ipynb\" target=\"_parent\"><img src=\"https://colab.research.google.com/assets/colab-badge.svg\" alt=\"Open In Colab\"/></a>"
      ]
    },
    {
      "cell_type": "markdown",
      "source": [
        "# [Experimenting Python notebooks on Colaboratory ⚗️​](https://www.linkedin.com/pulse/2-experimenting-python-notebooks-colaboratory-swarup-selvaraj)\n",
        "\n",
        "👋 Welcome to the learning notebook for the Second Edition of [Python for Engineers](https://www.linkedin.com/newsletters/python-for-engineers-7042602186047983616/) linkedin newsletter.\n",
        "\n",
        "🍬 You'll be pleased with your choice of learning Python 🍬\n",
        "\n",
        "---\n",
        "\n",
        "Here are two basic exercises that will help you with\n",
        "\n",
        "\n",
        "> 🖨️ Printing Text to console using Python\n",
        "\n",
        "\n",
        "> 🧮 Basic Math using Python\n"
      ],
      "metadata": {
        "id": "cICBR43FUcs6"
      }
    },
    {
      "cell_type": "markdown",
      "source": [
        "## 🖨️ Printing Text to console using Python\n",
        "\n",
        "`print()` function is used to print Text into console (output).\n",
        "\n",
        "print function takes one text input, i.e. the text to be printed.\n",
        "\n",
        "In python text are enclosed within 'single quotes' or \"double quotes\"\n",
        "\n",
        "\n",
        "Type `print(\"Hello World\")` in the below code cell and hit ctrl+enter (or press the run ▶️ button)"
      ],
      "metadata": {
        "id": "CFznTYvBVi5d"
      }
    },
    {
      "cell_type": "code",
      "source": [
        "print(\"Hello World!\")  # Anything preceeded with a Hash symbol is a comment in Python and will not be executed"
      ],
      "metadata": {
        "id": "0fjfsmp9VgjA"
      },
      "execution_count": null,
      "outputs": []
    },
    {
      "cell_type": "markdown",
      "source": [
        "## 🧮 Basic Math using Python\n",
        "\n",
        "Python supports all of the basic Math out of the box.\n",
        "\n",
        "If you know the arithmetic operators in excel, you almost know them in python."
      ],
      "metadata": {
        "id": "gmaD1wpeZV3_"
      }
    },
    {
      "cell_type": "code",
      "source": [
        "print( 1 + 1.5 )       # Addition        +"
      ],
      "metadata": {
        "id": "azPW4gaOaZG7"
      },
      "execution_count": null,
      "outputs": []
    },
    {
      "cell_type": "code",
      "source": [
        "print( 2.9 - 1 )       # Subtraction     -"
      ],
      "metadata": {
        "id": "qWGbEPdnacLI"
      },
      "execution_count": null,
      "outputs": []
    },
    {
      "cell_type": "code",
      "source": [
        "print( 3 * 1.5 )       # Multiplication  *"
      ],
      "metadata": {
        "id": "jSVyHNo2afNU"
      },
      "execution_count": null,
      "outputs": []
    },
    {
      "cell_type": "code",
      "source": [
        "print( 3 / 2 )         # Division        /"
      ],
      "metadata": {
        "id": "lAbs04VIamgM"
      },
      "execution_count": null,
      "outputs": []
    },
    {
      "cell_type": "code",
      "source": [
        "print( 5 // 2 )        # Quotient        //"
      ],
      "metadata": {
        "id": "UrSMhPUHavLj"
      },
      "execution_count": null,
      "outputs": []
    },
    {
      "cell_type": "code",
      "source": [
        "print( 5 % 2 )         # Remainder       %"
      ],
      "metadata": {
        "id": "xILx0vevazcm"
      },
      "execution_count": null,
      "outputs": []
    },
    {
      "cell_type": "code",
      "source": [
        "print( 5 ** 2 )        # Exponent        **"
      ],
      "metadata": {
        "id": "rr5R9u2ka4k0"
      },
      "execution_count": null,
      "outputs": []
    },
    {
      "cell_type": "markdown",
      "source": [
        "## 👉🏼 What Next?\n",
        "\n",
        "- Stay tuned for the third edition of Python for Engineers\n",
        "newsletter: **#3 Variables and Data Types in Python**\n",
        "\n",
        "- If you're eager to learn before the third edition arrives, I strongly recommend enrolling in Finxter Academy for an engaging, puzzle-based learning experience.\n",
        "https://app.finxter.com/accounts/login/"
      ],
      "metadata": {
        "id": "SzKiIJp6yqtQ"
      }
    },
    {
      "cell_type": "markdown",
      "source": [
        "\n",
        "## 📖 References\n",
        "\n",
        "### Working with notebooks in Colab\n",
        "\n",
        "- [Overview of Colaboratory](https://colab.research.google.com/notebooks/basic_features_overview.ipynb)\n",
        "- [Guide to markdown](https://colab.research.google.com/notebooks/markdown_guide.ipynb)\n",
        "- [Importing libraries and installing dependencies](https://colab.research.google.com/notebooks/snippets/importing_libraries.ipynb)\n",
        "- [Saving and loading notebooks in GitHub](https://colab.research.google.com/github/googlecolab/colabtools/blob/main/notebooks/colab-github-demo.ipynb)\n",
        "- [Interactive forms](https://colab.research.google.com/notebooks/forms.ipynb)\n",
        "- [Interactive widgets](https://colab.research.google.com/notebooks/widgets.ipynb)\n",
        "\n",
        "\n",
        "### Working with data\n",
        "\n",
        "- [Loading data: Drive, Sheets and Google Cloud Storage](https://colab.research.google.com/notebooks/io.ipynb)\n",
        "- [Charts: visualising data](https://colab.research.google.com/notebooks/charts.ipynb)"
      ],
      "metadata": {
        "id": "AtJoJhoIVGhu"
      }
    }
  ]
}